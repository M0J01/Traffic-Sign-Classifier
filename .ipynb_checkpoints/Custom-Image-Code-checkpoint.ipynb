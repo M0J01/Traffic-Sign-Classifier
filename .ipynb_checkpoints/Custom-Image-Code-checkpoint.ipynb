{
 "cells": [
  {
   "cell_type": "code",
   "execution_count": 35,
   "metadata": {
    "collapsed": false
   },
   "outputs": [
    {
     "name": "stdout",
     "output_type": "stream",
     "text": [
      "This image is:  <class 'numpy.ndarray'> with dimensions: (32, 32, 1)\n",
      "This image is:  <class 'numpy.ndarray'> with dimensions: (32, 32, 1)\n",
      "This image is:  <class 'numpy.ndarray'> with dimensions: (32, 32, 1)\n",
      "This image is:  <class 'numpy.ndarray'> with dimensions: (32, 32, 1)\n",
      "This image is:  <class 'numpy.ndarray'> with dimensions: (32, 32, 1)\n",
      "5\n"
     ]
    },
    {
     "name": "stderr",
     "output_type": "stream",
     "text": [
      "/home/carnd/anaconda3/envs/carnd-term1/lib/python3.5/site-packages/sklearn/utils/validation.py:429: DataConversionWarning: Data with input dtype uint8 was converted to float64 by the scale function.\n",
      "  warnings.warn(msg, _DataConversionWarning)\n"
     ]
    }
   ],
   "source": [
    "import matplotlib.pyplot as plt\n",
    "import matplotlib.image as mpimg\n",
    "import numpy as np\n",
    "import scipy as sp\n",
    "from scipy import misc\n",
    "from PIL import Image\n",
    "import cv2\n",
    "from sklearn import preprocessing\n",
    "\n",
    "image_list = []\n",
    "\n",
    "\n",
    "image = mpimg.imread('TrafficSigns/Speed_limit_70km.png')\n",
    "image = image[60:310, 400:675]\n",
    "image = sp.misc.imresize(image, (32,32,3), interp='bilinear')\n",
    "image = np.array(cv2.cvtColor(image, cv2.COLOR_RGB2GRAY))\n",
    "image = preprocessing.scale(image).reshape(32,32,1)    \n",
    "\n",
    "print('This image is: ',type(image), \n",
    "        'with dimensions:', image.shape) \n",
    "   \n",
    "image_list.append(image)\n",
    "\n",
    "    \n",
    "\n",
    "image = mpimg.imread('TrafficSigns/General_caution.jpg')\n",
    "image = sp.misc.imresize(image, (32,32,3), interp='bilinear')\n",
    "image = np.array(cv2.cvtColor(image, cv2.COLOR_RGB2GRAY))\n",
    "image = preprocessing.scale(image).reshape(32,32,1)  \n",
    "print('This image is: ',type(image), \n",
    "    'with dimensions:', image.shape) \n",
    "image_list.append(image)\n",
    "\n",
    "\n",
    "image = mpimg.imread('TrafficSigns/Priority_road.jpg')\n",
    "#image = image[60:310, 400:675]\n",
    "image = sp.misc.imresize(image, (32,32,3), interp='bilinear')\n",
    "image = np.array(cv2.cvtColor(image, cv2.COLOR_RGB2GRAY))\n",
    "image = preprocessing.scale(image).reshape(32,32,1)  \n",
    "print('This image is: ',type(image), \n",
    "    'with dimensions:', image.shape) \n",
    "image_list.append(image)\n",
    "\n",
    "\n",
    "\n",
    "image = mpimg.imread('TrafficSigns/Speed_limit_60km.jpg')\n",
    "#image = image[60:310, 400:675]\n",
    "image = sp.misc.imresize(image, (32,32,3), interp='bilinear')\n",
    "image = np.array(cv2.cvtColor(image, cv2.COLOR_RGB2GRAY))\n",
    "image = preprocessing.scale(image).reshape(32,32,1)  \n",
    "print('This image is: ',type(image), \n",
    "    'with dimensions:', image.shape) \n",
    "image_list.append(image)\n",
    "\n",
    "\n",
    "\n",
    "image = mpimg.imread('TrafficSigns/Stop.jpg')\n",
    "image = image[40:160, 65:170]\n",
    "image = sp.misc.imresize(image, (32,32,3), interp='bilinear')\n",
    "image = np.array(cv2.cvtColor(image, cv2.COLOR_RGB2GRAY))\n",
    "image = preprocessing.scale(image).reshape(32,32,1)  \n",
    "print('This image is: ',type(image), \n",
    "    'with dimensions:', image.shape) \n",
    "image_list.append(image)\n",
    "\n",
    "print (len(image_list))"
   ]
  },
  {
   "cell_type": "code",
   "execution_count": null,
   "metadata": {
    "collapsed": false
   },
   "outputs": [],
   "source": [
    "import os\n",
    "\n",
    "directory = \"/home/carnd/CarND-Traffic-Sign-Classifier-Project/TrafficSigns\"\n",
    "images = []\n",
    "\n",
    "for image in os.listdir(directory):\n",
    "    path = directory +\"/\" + str(image)\n",
    "    gig = mpimg.imread(path)\n",
    "    images.append([gig, str(image)])\n",
    "    \n",
    "for i in images:\n",
    "    print('This image is: ',type(i[0]), \n",
    "         'with dimensions:', i[0].shape)"
   ]
  },
  {
   "cell_type": "code",
   "execution_count": null,
   "metadata": {
    "collapsed": true
   },
   "outputs": [],
   "source": []
  }
 ],
 "metadata": {
  "kernelspec": {
   "display_name": "Python 3",
   "language": "python",
   "name": "python3"
  },
  "language_info": {
   "codemirror_mode": {
    "name": "ipython",
    "version": 3
   },
   "file_extension": ".py",
   "mimetype": "text/x-python",
   "name": "python",
   "nbconvert_exporter": "python",
   "pygments_lexer": "ipython3",
   "version": "3.5.2"
  },
  "widgets": {
   "state": {},
   "version": "1.1.2"
  }
 },
 "nbformat": 4,
 "nbformat_minor": 2
}
