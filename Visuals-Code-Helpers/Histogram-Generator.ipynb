{
 "cells": [
  {
   "cell_type": "markdown",
   "metadata": {},
   "source": [
    "---\n",
    "## Step 0: Load The Data"
   ]
  },
  {
   "cell_type": "code",
   "execution_count": 1,
   "metadata": {
    "collapsed": false
   },
   "outputs": [
    {
     "name": "stdout",
     "output_type": "stream",
     "text": [
      "All Done\n"
     ]
    }
   ],
   "source": [
    "# Load pickled data\n",
    "import pickle\n",
    "\n",
    "# TODO: Fill this in based on where you saved the training and testing data\n",
    "\n",
    "training_file = \"train.p\"\n",
    "validation_file= \"valid.p\"\n",
    "testing_file = \"test.p\"\n",
    "\n",
    "with open(training_file, mode='rb') as f:\n",
    "    train = pickle.load(f)\n",
    "with open(validation_file, mode='rb') as f:\n",
    "    valid = pickle.load(f)\n",
    "with open(testing_file, mode='rb') as f:\n",
    "    test = pickle.load(f)\n",
    "    \n",
    "X_train, y_train = train['features'], train['labels']\n",
    "X_valid, y_valid = valid['features'], valid['labels']\n",
    "X_test, y_test = test['features'], test['labels']\n",
    "\n",
    "print(\"All Done\")"
   ]
  },
  {
   "cell_type": "markdown",
   "metadata": {},
   "source": [
    "### Include an exploratory visualization of the dataset"
   ]
  },
  {
   "cell_type": "code",
   "execution_count": 2,
   "metadata": {
    "collapsed": false
   },
   "outputs": [
    {
     "name": "stdout",
     "output_type": "stream",
     "text": [
      "Number of training examples = 34799\n",
      "Number of testing examples = 12630\n",
      "Image data shape = (32, 32, 3)\n",
      "Number of classes = 43\n"
     ]
    }
   ],
   "source": [
    "### Replace each question mark with the appropriate value. \n",
    "### Use python, pandas or numpy methods rather than hard coding the results\n",
    "\n",
    "# TODO: Number of training examples\n",
    "n_train = (len(X_train))\n",
    "\n",
    "# TODO: Number of validation examples\n",
    "n_validation = (len(X_valid))\n",
    "\n",
    "# TODO: Number of testing examples.\n",
    "n_test = (len(X_test))\n",
    "\n",
    "# TODO: What's the shape of an traffic sign image?\n",
    "image_shape = (X_train[0].shape)\n",
    "\n",
    "# TODO: How many unique classes/labels there are in the dataset.\n",
    "n_classes = 43\n",
    "\n",
    "print(\"Number of training examples =\", n_train)\n",
    "print(\"Number of testing examples =\", n_test)\n",
    "print(\"Image data shape =\", image_shape)\n",
    "print(\"Number of classes =\", n_classes)"
   ]
  },
  {
   "cell_type": "code",
   "execution_count": 3,
   "metadata": {
    "collapsed": false
   },
   "outputs": [
    {
     "name": "stdout",
     "output_type": "stream",
     "text": [
      "33\n"
     ]
    },
    {
     "data": {
      "image/png": "[encoded data removed]",
      "text/plain": [
       "<matplotlib.figure.Figure at 0x7f867d1e5c88>"
      ]
     },
     "metadata": {},
     "output_type": "display_data"
    }
   ],
   "source": [
    "### Data exploration visualization code goes here.\n",
    "### Feel free to use as many code cells as needed.\n",
    "import random\n",
    "import numpy as np\n",
    "import matplotlib.pyplot as plt\n",
    "# Visualizations will be shown in the notebook.\n",
    "%matplotlib inline\n",
    "\n",
    "\n",
    "index = random.randint(0, len(X_train))\n",
    "\n",
    "#index = 17999\n",
    "image = X_train[index].squeeze()\n",
    "\n",
    "plt.figure(figsize=(1,1))\n",
    "plt.imshow(image)\n",
    "print(y_train[index])\n",
    "#print (X_train[index])"
   ]
  },
  {
   "cell_type": "code",
   "execution_count": 4,
   "metadata": {
    "collapsed": true
   },
   "outputs": [],
   "source": [
    "# affine Image Augmentation Fucntion Block\n",
    "#Code thanks to vxy10 via ImageAugmentation - Github: https://github.com/vxy10/ImageAugmentation\n",
    "\n",
    "import matplotlib.pyplot as plt\n",
    "import matplotlib.gridspec as gridspec\n",
    "import cv2\n",
    "\n",
    "import numpy as np\n",
    "%matplotlib inline\n",
    "import matplotlib.image as mpimg\n",
    "\n",
    "def augment_brightness_camera_images(image):\n",
    "    image1 = cv2.cvtColor(image,cv2.COLOR_RGB2HSV)\n",
    "    random_bright = .25+np.random.uniform()\n",
    "    #print(random_bright)\n",
    "    image1[:,:,2] = image1[:,:,2]*random_bright\n",
    "    image1 = cv2.cvtColor(image1,cv2.COLOR_HSV2RGB)\n",
    "    return image1\n",
    "\n",
    "def transform_image(img,ang_range,shear_range,trans_range,brightness=0):\n",
    "    '''\n",
    "    This function transforms images to generate new images.\n",
    "    The function takes in following arguments,\n",
    "    1- Image\n",
    "    2- ang_range: Range of angles for rotation\n",
    "    3- shear_range: Range of values to apply affine transform to\n",
    "    4- trans_range: Range of values to apply translations over.\n",
    "\n",
    "    A Random uniform distribution is used to generate different parameters for transformation\n",
    "\n",
    "    '''\n",
    "    # Rotation\n",
    "\n",
    "    ang_rot = np.random.uniform(ang_range)-ang_range/2\n",
    "    rows,cols,ch = img.shape    \n",
    "    Rot_M = cv2.getRotationMatrix2D((cols/2,rows/2),ang_rot,1)\n",
    "\n",
    "    # Translation\n",
    "    tr_x = trans_range*np.random.uniform()-trans_range/2\n",
    "    tr_y = trans_range*np.random.uniform()-trans_range/2\n",
    "    Trans_M = np.float32([[1,0,tr_x],[0,1,tr_y]])\n",
    "\n",
    "    # Shear\n",
    "    pts1 = np.float32([[5,5],[20,5],[5,20]])\n",
    "\n",
    "    pt1 = 5+shear_range*np.random.uniform()-shear_range/2\n",
    "    pt2 = 20+shear_range*np.random.uniform()-shear_range/2\n",
    "\n",
    "    # Brightness\n",
    "\n",
    "\n",
    "    pts2 = np.float32([[pt1,5],[pt2,pt1],[5,pt2]])\n",
    "\n",
    "    shear_M = cv2.getAffineTransform(pts1,pts2)\n",
    "\n",
    "    img = cv2.warpAffine(img,Rot_M,(cols,rows))\n",
    "    img = cv2.warpAffine(img,Trans_M,(cols,rows))\n",
    "    img = cv2.warpAffine(img,shear_M,(cols,rows))\n",
    "\n",
    "    if brightness == 1:\n",
    "      img = augment_brightness_camera_images(img)\n",
    "\n",
    "    return img"
   ]
  },
  {
   "cell_type": "code",
   "execution_count": 6,
   "metadata": {
    "collapsed": false
   },
   "outputs": [
    {
     "name": "stdout",
     "output_type": "stream",
     "text": [
      "[  180.  1980.  2010.  1260.  1770.  1650.   360.  1290.  1260.  1320.\n",
      "  1800.  1170.  1890.  1920.   690.   540.   360.   990.  1080.   180.\n",
      "   300.   270.   330.   450.   240.  1350.   540.   210.   480.   240.\n",
      "   390.   690.   210.   599.   360.  1080.   330.   180.  1860.   270.\n",
      "   300.   210.   210.]\n"
     ]
    }
   ],
   "source": [
    "# Normalize number of images from each catagory using affined images\n",
    "\n",
    "import math\n",
    "\n",
    "\n",
    "#create a histrogram of training images by category\n",
    "histolist = np.zeros(43) \n",
    "for i in range(len(y_train)):\n",
    "    histolist[y_train[i]]+=1\n",
    "\n",
    "print(histolist)\n",
    "    "
   ]
  },
  {
   "cell_type": "code",
   "execution_count": 26,
   "metadata": {
    "collapsed": false
   },
   "outputs": [
    {
     "data": {
      "image/png": "[encoded data removed]",
      "text/plain": [
       "<matplotlib.figure.Figure at 0x7f86327a0198>"
      ]
     },
     "metadata": {},
     "output_type": "display_data"
    }
   ],
   "source": [
    "import matplotlib.pyplot as plt\n",
    "rng = np.random.RandomState(10)\n",
    "#a = np.hstack((rng.normal(size=1000),\n",
    "               #rng.normal(loc=5, scale=2, size=1000)))\n",
    "\n",
    "plt.bar(range(43),histolist)\n",
    "plt.title(\"Sign Distribution pre-augmentation\")\n",
    "plt.show()"
   ]
  },
  {
   "cell_type": "code",
   "execution_count": 22,
   "metadata": {
    "collapsed": false
   },
   "outputs": [],
   "source": [
    "#add the affined images to our training data\n",
    "new_size = math.ceil(n_train*5/43)\n",
    "eX_train = []\n",
    "ey_train = []\n",
    "for i in range(len(X_train)):\n",
    "    occurance_rate = histolist[y_train[i]]\n",
    "    eX_train.append(X_train[i])\n",
    "    ey_train.append(y_train[i])\n",
    "    num_jitters =(math.ceil((new_size - occurance_rate)/occurance_rate))\n",
    "    for _ in range(num_jitters):\n",
    "        jitter = transform_image(X_train[i],20,10,5,brightness=1)\n",
    "        eX_train.append(jitter)\n",
    "        ey_train.append(y_train[i])\n",
    "eX_train = np.array(eX_train)\n",
    "ey_train = np.array(ey_train)\n"
   ]
  },
  {
   "cell_type": "code",
   "execution_count": 23,
   "metadata": {
    "collapsed": false
   },
   "outputs": [
    {
     "name": "stdout",
     "output_type": "stream",
     "text": [
      "[ 4140.  5940.  6030.  5040.  5310.  4950.  4320.  5160.  5040.  5280.\n",
      "  5400.  4680.  5670.  5760.  4140.  4320.  4320.  4950.  4320.  4140.\n",
      "  4200.  4050.  4290.  4050.  4080.  4050.  4320.  4200.  4320.  4080.\n",
      "  4290.  4140.  4200.  4193.  4320.  4320.  4290.  4140.  5580.  4050.\n",
      "  4200.  4200.  4200.]\n"
     ]
    }
   ],
   "source": [
    "histolist2 = np.zeros(43) \n",
    "for i in range(len(ey_train)):\n",
    "    histolist2[ey_train[i]]+=1\n",
    "\n",
    "print(histolist2)"
   ]
  },
  {
   "cell_type": "code",
   "execution_count": 27,
   "metadata": {
    "collapsed": false,
    "scrolled": false
   },
   "outputs": [
    {
     "data": {
      "image/png": "[encoded data removed]",
      "text/plain": [
       "<matplotlib.figure.Figure at 0x7f86327a03c8>"
      ]
     },
     "metadata": {},
     "output_type": "display_data"
    }
   ],
   "source": [
    "import matplotlib.pyplot as plt\n",
    "plt.bar(range(43),histolist2)\n",
    "plt.title(\"Sign Distribution post-augmentation\")\n",
    "plt.show()"
   ]
  },
  {
   "cell_type": "code",
   "execution_count": null,
   "metadata": {
    "collapsed": true
   },
   "outputs": [],
   "source": []
  },
  {
   "cell_type": "code",
   "execution_count": 2,
   "metadata": {
    "collapsed": false
   },
   "outputs": [],
   "source": [
    "import matplotlib.pyplot as plt\n",
    "import numpy as np\n",
    "\n",
    "plots = [[[ 27.29934311,  23.50445175,  18.98613548,  18.20011711,\n",
    "         17.57636642],\n",
    "       [ 59.04275894,  40.32078934,  40.23249817,  38.8664856 ,\n",
    "         36.70235825],\n",
    "       [ 39.48780441,  22.64865112,  19.65498734,  19.62361145,  19.1497345 ],\n",
    "       [ 28.42455101,  24.86112213,  24.17674828,  21.89281464,\n",
    "         20.73781013],\n",
    "       [ 42.79763794,  30.48266983,  30.37314796,  29.46491814,\n",
    "         28.02173805]], [[ 4, 21, 31, 24, 18],\n",
    "       [18, 24, 21, 26, 29],\n",
    "       [12, 40, 11, 38,  2],\n",
    "       [40,  1,  3,  8,  0],\n",
    "       [36, 14, 17, 38, 12]]]\n",
    "\n",
    "plots = [[[  8.28044295e-01,   1.71916842e-01,   3.88777371e-05,\n",
    "          1.40730566e-10,   1.35001774e-10],\n",
    "       [  1.00000000e+00,   1.71509486e-12,   2.75213066e-14,\n",
    "          3.56514738e-16,   2.32036001e-19],\n",
    "       [  9.99997258e-01,   2.53146118e-06,   1.96150324e-07,\n",
    "          5.82162166e-11,   2.36557770e-11],\n",
    "       [  9.46981013e-01,   1.47838974e-02,   1.30275469e-02,\n",
    "          1.20599847e-02,   4.95168287e-03],\n",
    "       [  7.94140756e-01,   2.05805272e-01,   3.22144697e-05,\n",
    "          1.94484528e-05,   2.10475582e-06]], [[ 7,  4, 34,  8,  1],\n",
    "       [18, 26, 27, 24, 11],\n",
    "       [12, 40, 35,  3, 38],\n",
    "       [ 5,  7,  1,  8,  0],\n",
    "       [14, 12, 38, 33, 35]]]"
   ]
  },
  {
   "cell_type": "code",
   "execution_count": 3,
   "metadata": {
    "collapsed": false
   },
   "outputs": [
    {
     "name": "stdout",
     "output_type": "stream",
     "text": [
      "[0.828044295, 0.171916842, 3.88777371e-05, 1.40730566e-10, 1.35001774e-10]\n",
      "[7, 4, 34, 8, 1]\n"
     ]
    }
   ],
   "source": [
    "print(plots[0][0])\n",
    "print(plots[1][0])"
   ]
  },
  {
   "cell_type": "code",
   "execution_count": 4,
   "metadata": {
    "collapsed": false
   },
   "outputs": [],
   "source": [
    "def lookup(x):\n",
    "    if x== 0 : return (\"Speed limit (20km/h)\")\n",
    "    if x== 1 : return (\"Speed limit (30km/h)\")\n",
    "    if x== 2 : return (\"Speed limit (50km/h)\")\n",
    "    if x== 3 : return (\"Speed limit (60km/h)\")\n",
    "    if x== 4 : return (\"Speed limit (70km/h)\")\n",
    "    if x== 5 : return (\"Speed limit (80km/h)\")\n",
    "    if x== 6 : return (\"End of speed limit (80km/h)\")\n",
    "    if x== 7 : return (\"Speed limit (100km/h)\")\n",
    "    if x== 8 : return (\"Speed limit (120km/h)\")\n",
    "    if x== 9 : return (\"No passing\")\n",
    "    if x== 10 : return (\"No passing for vehicles over 3.5 metric tons\")\n",
    "    if x== 11 : return (\"Right-of-way at the next intersection\")\n",
    "    if x== 12 : return (\"Priority road\")\n",
    "    if x== 13 : return (\"Yield\")\n",
    "    if x== 14 : return (\"Stop\")\n",
    "    if x== 15 : return (\"No vehicles\")\n",
    "    if x== 16 : return (\"Vehicles over 3.5 metric tons prohibited\")\n",
    "    if x== 17 : return (\"No entry\")\n",
    "    if x== 18 : return (\"General caution\")\n",
    "    if x== 19 : return (\"Dangerous curve to the left\")\n",
    "    if x== 20 : return (\"Dangerous curve to the right\")\n",
    "    if x== 21 : return (\"Double curve\")\n",
    "    if x== 22 : return (\"Bumpy road\")\n",
    "    if x== 23 : return (\"Slippery road\")\n",
    "    if x== 24 : return (\"Road narrows on the right\")\n",
    "    if x== 25 : return (\"Road work\")\n",
    "    if x== 26 : return (\"Traffic signals\")\n",
    "    if x== 27  : return (\"Pedestrians\")\n",
    "    if x== 28 : return (\"Children crossing\")\n",
    "    if x== 29 : return (\"Bicycles crossing\")\n",
    "    if x== 30 : return (\"Beware of ice/snow\")\n",
    "    if x== 31 : return (\"Wild animals crossing\")\n",
    "    if x== 32 : return (\"End of all speed and passing limits\")\n",
    "    if x== 33 : return (\"Turn right ahead\")\n",
    "    if x== 34 : return (\"Turn left ahead\")\n",
    "    if x== 35 : return (\"Ahead only\")\n",
    "    if x== 36 : return (\"Go straight or right\")\n",
    "    if x== 37 : return (\"Go straight or left\")\n",
    "    if x== 38 : return (\",Keep right\")\n",
    "    if x== 39 : return (\"Keep left\")\n",
    "    if x== 40 : return (\"Roundabout mandatory\")\n",
    "    if x== 41 : return (\"End of no passing\")\n",
    "    if x== 42 : return (\"End of no passing by vehicles over 3.5 metric tons\")\n",
    "\n"
   ]
  },
  {
   "cell_type": "code",
   "execution_count": 5,
   "metadata": {
    "collapsed": false
   },
   "outputs": [
    {
     "data": {
      "image/png": "[encoded data removed]",
      "text/plain": [
       "<matplotlib.figure.Figure at 0x7efc85556c18>"
      ]
     },
     "metadata": {},
     "output_type": "display_data"
    },
    {
     "data": {
      "image/png": "[encoded data removed]",
      "text/plain": [
       "<matplotlib.figure.Figure at 0x7efc83529f28>"
      ]
     },
     "metadata": {},
     "output_type": "display_data"
    },
    {
     "data": {
      "image/png": "[encoded data removed]",
      "text/plain": [
       "<matplotlib.figure.Figure at 0x7efcb1fa9160>"
      ]
     },
     "metadata": {},
     "output_type": "display_data"
    },
    {
     "data": {
      "image/png": "[encoded data removed]",
      "text/plain": [
       "<matplotlib.figure.Figure at 0x7efc83472cf8>"
      ]
     },
     "metadata": {},
     "output_type": "display_data"
    },
    {
     "data": {
      "image/png": "[encoded data removed]",
      "text/plain": [
       "<matplotlib.figure.Figure at 0x7efc8338b208>"
      ]
     },
     "metadata": {},
     "output_type": "display_data"
    }
   ],
   "source": [
    "title_list = [\"70 km/h\", \"General Caution\", \"Priority Road\", \"60 km/h\", \"Stop\"]\n",
    "for i in range(len(plots[0])):\n",
    "    fig, a = plt.subplots()\n",
    "    a.bar([2,3,4,5,6], plots[0][i])\n",
    "    a.set_ylabel('Softmax %')\n",
    "    a.set_xticklabels(('null', lookup(plots[1][i][0]), lookup(plots[1][i][1]), lookup(plots[1][i][2]), lookup(plots[1][i][3]), lookup(plots[1][i][4])), rotation=90)\n",
    "    a.set_title(title_list[i])\n",
    "    plt.show()"
   ]
  },
  {
   "cell_type": "code",
   "execution_count": null,
   "metadata": {
    "collapsed": true
   },
   "outputs": [],
   "source": []
  }
 ],
 "metadata": {
  "anaconda-cloud": {},
  "kernelspec": {
   "display_name": "Python 3",
   "language": "python",
   "name": "python3"
  },
  "language_info": {
   "codemirror_mode": {
    "name": "ipython",
    "version": 3
   },
   "file_extension": ".py",
   "mimetype": "text/x-python",
   "name": "python",
   "nbconvert_exporter": "python",
   "pygments_lexer": "ipython3",
   "version": "3.5.2"
  },
  "widgets": {
   "state": {},
   "version": "1.1.2"
  }
 },
 "nbformat": 4,
 "nbformat_minor": 1
}
